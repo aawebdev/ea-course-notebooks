{
 "cells": [
  {
   "cell_type": "markdown",
   "id": "2673166e",
   "metadata": {},
   "source": [
    "# Raster Data in Python"
   ]
  },
  {
   "cell_type": "code",
   "execution_count": 2,
   "id": "08af8bb1",
   "metadata": {},
   "outputs": [],
   "source": [
    "import os\n",
    "\n",
    "import earthpy as et\n",
    "import geopandas as gpd\n",
    "import xarray as xr\n",
    "import rioxarray as rxr"
   ]
  },
  {
   "cell_type": "code",
   "execution_count": 3,
   "id": "54358e08",
   "metadata": {},
   "outputs": [
    {
     "data": {
      "text/plain": [
       "'/Users/elsa/earth-analytics/data/colorado-flood/.'"
      ]
     },
     "execution_count": 3,
     "metadata": {},
     "output_type": "execute_result"
    }
   ],
   "source": [
    "et.data.get_data('colorado-flood')"
   ]
  },
  {
   "cell_type": "code",
   "execution_count": 5,
   "id": "ceb66775",
   "metadata": {},
   "outputs": [],
   "source": [
    "os.chdir(os.path.join(\n",
    "    et.io.HOME, 'earth-analytics', 'data', 'colorado-flood'))"
   ]
  },
  {
   "cell_type": "code",
   "execution_count": 6,
   "id": "b53d3b87",
   "metadata": {},
   "outputs": [
    {
     "name": "stdout",
     "output_type": "stream",
     "text": [
      ".\n",
      "./precipitation\n",
      "./precipitation/PRECIP_HLY_documentation.pdf\n",
      "./precipitation/805333-precip-daily-1948-2013.csv\n",
      "./precipitation/805325-precip-dailysum-2003-2013.csv\n",
      "./precipitation/805325-precip-daily-2003-2013.csv\n",
      "./precipitation/precip-boulder-aug-oct-2013.csv\n",
      "./discharge\n",
      "./discharge/README_dischargeMetadata.rtf\n",
      "./discharge/06730200-discharge-daily-1986-2013.csv\n",
      "./discharge/06730200-discharge-daily-1986-2013.txt\n",
      "./spatial\n",
      "./spatial/boulder-leehill-rd\n",
      "./spatial/boulder-leehill-rd/clip-extent.qpj\n",
      "./spatial/boulder-leehill-rd/clip-extent.prj\n",
      "./spatial/boulder-leehill-rd/README.md\n",
      "./spatial/boulder-leehill-rd/clip-extent.dbf\n",
      "./spatial/boulder-leehill-rd/post-flood\n",
      "./spatial/boulder-leehill-rd/post-flood/lidar\n",
      "./spatial/boulder-leehill-rd/post-flood/lidar/post_DTM_hill.tif\n",
      "./spatial/boulder-leehill-rd/post-flood/lidar/post_DTM.tif\n",
      "./spatial/boulder-leehill-rd/post-flood/lidar/post_DSM.tif\n",
      "./spatial/boulder-leehill-rd/post-flood/lidar/post_DSM_hill.tif\n",
      "./spatial/boulder-leehill-rd/pre-flood\n",
      "./spatial/boulder-leehill-rd/pre-flood/camera\n",
      "./spatial/boulder-leehill-rd/pre-flood/camera/preCamera_Comp.tfw\n",
      "./spatial/boulder-leehill-rd/pre-flood/camera/preCamera_Comp.tif\n",
      "./spatial/boulder-leehill-rd/pre-flood/lidar\n",
      "./spatial/boulder-leehill-rd/pre-flood/lidar/pre_DTM.tif\n",
      "./spatial/boulder-leehill-rd/pre-flood/lidar/pre_DTM_repoject2.tif\n",
      "./spatial/boulder-leehill-rd/pre-flood/lidar/pre_DSM.tif\n",
      "./spatial/boulder-leehill-rd/pre-flood/lidar/pre_DSM_hill.tif\n",
      "./spatial/boulder-leehill-rd/pre-flood/lidar/pre_DTM_repoject.tif\n",
      "./spatial/boulder-leehill-rd/pre-flood/lidar/pre_DTM_hill.tif\n",
      "./spatial/boulder-leehill-rd/clip-extent.shp\n",
      "./spatial/boulder-leehill-rd/outputs\n",
      "./spatial/boulder-leehill-rd/outputs/lidar_chm.tif\n",
      "./spatial/boulder-leehill-rd/clip-extent.shx\n",
      "./spatial/boulder-lidar-points\n",
      "./spatial/boulder-lidar-points/2013_BLDR_flood_2013100814_471000_4428000.laz\n",
      "./spatial/boulder-lidar-points/2013_BLDR_flood_2013100814_476000_4434000.laz\n",
      "./spatial/boulder-lidar-points/2013_BLDR_flood_2013100814_487000_4432000.laz\n",
      "./spatial/README.md\n",
      "./spatial/outputs\n",
      "./spatial/outputs/lidar_chm.tiff\n",
      "./downloads\n",
      "./downloads/boulder-precip.csv\n"
     ]
    }
   ],
   "source": [
    "%%bash\n",
    "find ."
   ]
  },
  {
   "cell_type": "code",
   "execution_count": 10,
   "id": "8029ed7e",
   "metadata": {},
   "outputs": [
    {
     "data": {
      "text/plain": [
       "{'pre_DTM': 'spatial/boulder-leehill-rd/pre-flood/lidar/pre_DTM.tif',\n",
       " 'pre_DSM': 'spatial/boulder-leehill-rd/pre-flood/lidar/pre_DSM.tif',\n",
       " 'post_DTM': 'spatial/boulder-leehill-rd/post-flood/lidar/post_DTM.tif',\n",
       " 'post_DSM': 'spatial/boulder-leehill-rd/post-flood/lidar/post_DSM.tif'}"
      ]
     },
     "execution_count": 10,
     "metadata": {},
     "output_type": "execute_result"
    }
   ],
   "source": [
    "leehill_dir = os.path.join('spatial', 'boulder-leehill-rd')\n",
    "\n",
    "pre_post_str = ['pre', 'post']\n",
    "dtm_dsm_str = ['DTM', 'DSM']\n",
    "\n",
    "lidar_pths = {}\n",
    "for timing_str in pre_post_str:\n",
    "    for type_str in dtm_dsm_str:\n",
    "        pth = (os.path.join(leehill_dir, '{}-flood', 'lidar', '{}_{}.tif')\n",
    "         .format(timing_str, timing_str, type_str))\n",
    "        lidar_pths['{}_{}'.format(timing_str, type_str)] = pth\n",
    "lidar_pths"
   ]
  },
  {
   "cell_type": "code",
   "execution_count": 26,
   "id": "190a7a8e",
   "metadata": {},
   "outputs": [
    {
     "ename": "ValueError",
     "evalue": "Ellipsis must be a single dataset dimension",
     "output_type": "error",
     "traceback": [
      "\u001b[0;31m---------------------------------------------------------------------------\u001b[0m",
      "\u001b[0;31mValueError\u001b[0m                                Traceback (most recent call last)",
      "\u001b[0;32m/var/folders/dn/99vk45cd5n56wsnl3hxc1bw40000gp/T/ipykernel_36107/2237207247.py\u001b[0m in \u001b[0;36m<module>\u001b[0;34m\u001b[0m\n\u001b[0;32m----> 1\u001b[0;31m \u001b[0mpre_dtm\u001b[0m \u001b[0;34m=\u001b[0m \u001b[0mrxr\u001b[0m\u001b[0;34m.\u001b[0m\u001b[0mopen_rasterio\u001b[0m\u001b[0;34m(\u001b[0m\u001b[0mlidar_pths\u001b[0m\u001b[0;34m[\u001b[0m\u001b[0;34m'pre_DTM'\u001b[0m\u001b[0;34m]\u001b[0m\u001b[0;34m)\u001b[0m\u001b[0;34m.\u001b[0m\u001b[0msqueeze\u001b[0m\u001b[0;34m(\u001b[0m\u001b[0;34m)\u001b[0m\u001b[0;34m.\u001b[0m\u001b[0mdropna\u001b[0m\u001b[0;34m(\u001b[0m\u001b[0;34m...\u001b[0m\u001b[0;34m)\u001b[0m\u001b[0;34m\u001b[0m\u001b[0;34m\u001b[0m\u001b[0m\n\u001b[0m",
      "\u001b[0;32m~/opt/miniconda3/envs/earth-analytics-python/lib/python3.8/site-packages/xarray/core/dataarray.py\u001b[0m in \u001b[0;36mdropna\u001b[0;34m(self, dim, how, thresh)\u001b[0m\n\u001b[1;32m   2418\u001b[0m         \u001b[0mDataArray\u001b[0m\u001b[0;34m\u001b[0m\u001b[0;34m\u001b[0m\u001b[0m\n\u001b[1;32m   2419\u001b[0m         \"\"\"\n\u001b[0;32m-> 2420\u001b[0;31m         \u001b[0mds\u001b[0m \u001b[0;34m=\u001b[0m \u001b[0mself\u001b[0m\u001b[0;34m.\u001b[0m\u001b[0m_to_temp_dataset\u001b[0m\u001b[0;34m(\u001b[0m\u001b[0;34m)\u001b[0m\u001b[0;34m.\u001b[0m\u001b[0mdropna\u001b[0m\u001b[0;34m(\u001b[0m\u001b[0mdim\u001b[0m\u001b[0;34m,\u001b[0m \u001b[0mhow\u001b[0m\u001b[0;34m=\u001b[0m\u001b[0mhow\u001b[0m\u001b[0;34m,\u001b[0m \u001b[0mthresh\u001b[0m\u001b[0;34m=\u001b[0m\u001b[0mthresh\u001b[0m\u001b[0;34m)\u001b[0m\u001b[0;34m\u001b[0m\u001b[0;34m\u001b[0m\u001b[0m\n\u001b[0m\u001b[1;32m   2421\u001b[0m         \u001b[0;32mreturn\u001b[0m \u001b[0mself\u001b[0m\u001b[0;34m.\u001b[0m\u001b[0m_from_temp_dataset\u001b[0m\u001b[0;34m(\u001b[0m\u001b[0mds\u001b[0m\u001b[0;34m)\u001b[0m\u001b[0;34m\u001b[0m\u001b[0;34m\u001b[0m\u001b[0m\n\u001b[1;32m   2422\u001b[0m \u001b[0;34m\u001b[0m\u001b[0m\n",
      "\u001b[0;32m~/opt/miniconda3/envs/earth-analytics-python/lib/python3.8/site-packages/xarray/core/dataset.py\u001b[0m in \u001b[0;36mdropna\u001b[0;34m(self, dim, how, thresh, subset)\u001b[0m\n\u001b[1;32m   4644\u001b[0m \u001b[0;34m\u001b[0m\u001b[0m\n\u001b[1;32m   4645\u001b[0m         \u001b[0;32mif\u001b[0m \u001b[0mdim\u001b[0m \u001b[0;32mnot\u001b[0m \u001b[0;32min\u001b[0m \u001b[0mself\u001b[0m\u001b[0;34m.\u001b[0m\u001b[0mdims\u001b[0m\u001b[0;34m:\u001b[0m\u001b[0;34m\u001b[0m\u001b[0;34m\u001b[0m\u001b[0m\n\u001b[0;32m-> 4646\u001b[0;31m             \u001b[0;32mraise\u001b[0m \u001b[0mValueError\u001b[0m\u001b[0;34m(\u001b[0m\u001b[0;34mf\"{dim} must be a single dataset dimension\"\u001b[0m\u001b[0;34m)\u001b[0m\u001b[0;34m\u001b[0m\u001b[0;34m\u001b[0m\u001b[0m\n\u001b[0m\u001b[1;32m   4647\u001b[0m \u001b[0;34m\u001b[0m\u001b[0m\n\u001b[1;32m   4648\u001b[0m         \u001b[0;32mif\u001b[0m \u001b[0msubset\u001b[0m \u001b[0;32mis\u001b[0m \u001b[0;32mNone\u001b[0m\u001b[0;34m:\u001b[0m\u001b[0;34m\u001b[0m\u001b[0;34m\u001b[0m\u001b[0m\n",
      "\u001b[0;31mValueError\u001b[0m: Ellipsis must be a single dataset dimension"
     ]
    }
   ],
   "source": [
    "pre_dtm = rxr.open_rasterio(lidar_pths['pre_DTM']).squeeze()"
   ]
  },
  {
   "cell_type": "code",
   "execution_count": 19,
   "id": "4f90fa5b",
   "metadata": {},
   "outputs": [
    {
     "data": {
      "text/plain": [
       "CRS.from_epsg(32613)"
      ]
     },
     "execution_count": 19,
     "metadata": {},
     "output_type": "execute_result"
    }
   ],
   "source": [
    "pre_dtm.rio.crs"
   ]
  },
  {
   "cell_type": "code",
   "execution_count": 21,
   "id": "62462646",
   "metadata": {},
   "outputs": [
    {
     "data": {
      "text/plain": [
       "{'pre_DTM': <xarray.DataArray (y: 2000, x: 4000)>\n",
       " [8000000 values with dtype=float32]\n",
       " Coordinates:\n",
       "     band         int64 1\n",
       "   * x            (x) float64 4.72e+05 4.72e+05 4.72e+05 ... 4.76e+05 4.76e+05\n",
       "   * y            (y) float64 4.436e+06 4.436e+06 ... 4.434e+06 4.434e+06\n",
       "     spatial_ref  int64 0\n",
       " Attributes:\n",
       "     _FillValue:    -3.4028234663852886e+38\n",
       "     scale_factor:  1.0\n",
       "     add_offset:    0.0,\n",
       " 'pre_DSM': <xarray.DataArray (y: 2000, x: 4000)>\n",
       " [8000000 values with dtype=float32]\n",
       " Coordinates:\n",
       "     band         int64 1\n",
       "   * x            (x) float64 4.72e+05 4.72e+05 4.72e+05 ... 4.76e+05 4.76e+05\n",
       "   * y            (y) float64 4.436e+06 4.436e+06 ... 4.434e+06 4.434e+06\n",
       "     spatial_ref  int64 0\n",
       " Attributes:\n",
       "     _FillValue:    -3.4028230607370965e+38\n",
       "     scale_factor:  1.0\n",
       "     add_offset:    0.0,\n",
       " 'post_DTM': <xarray.DataArray (y: 2000, x: 4000)>\n",
       " [8000000 values with dtype=float32]\n",
       " Coordinates:\n",
       "     band         int64 1\n",
       "   * x            (x) float64 4.72e+05 4.72e+05 4.72e+05 ... 4.76e+05 4.76e+05\n",
       "   * y            (y) float64 4.436e+06 4.436e+06 ... 4.434e+06 4.434e+06\n",
       "     spatial_ref  int64 0\n",
       " Attributes:\n",
       "     _FillValue:    -3.4028234663852886e+38\n",
       "     scale_factor:  1.0\n",
       "     add_offset:    0.0,\n",
       " 'post_DSM': <xarray.DataArray (y: 2000, x: 4000)>\n",
       " [8000000 values with dtype=float32]\n",
       " Coordinates:\n",
       "     band         int64 1\n",
       "   * x            (x) float64 4.72e+05 4.72e+05 4.72e+05 ... 4.76e+05 4.76e+05\n",
       "   * y            (y) float64 4.436e+06 4.436e+06 ... 4.434e+06 4.434e+06\n",
       "     spatial_ref  int64 0\n",
       " Attributes:\n",
       "     _FillValue:    -3.4028234663852886e+38\n",
       "     scale_factor:  1.0\n",
       "     add_offset:    0.0}"
      ]
     },
     "execution_count": 21,
     "metadata": {},
     "output_type": "execute_result"
    }
   ],
   "source": [
    "lidar_das = {}\n",
    "for tif_key in lidar_pths.keys():\n",
    "    lidar_das[tif_key] = rxr.open_rasterio(lidar_pths[tif_key], ).squeeze()\n",
    "\n",
    "lidar_das"
   ]
  },
  {
   "cell_type": "markdown",
   "id": "0b04021d",
   "metadata": {},
   "source": [
    "# Canopy Height Model\n",
    "\n",
    "CHM = DSM - DTM"
   ]
  },
  {
   "cell_type": "code",
   "execution_count": 23,
   "id": "30fb914b",
   "metadata": {},
   "outputs": [
    {
     "data": {
      "text/plain": [
       "<matplotlib.collections.QuadMesh at 0x7ff6597b3220>"
      ]
     },
     "execution_count": 23,
     "metadata": {},
     "output_type": "execute_result"
    },
    {
     "data": {
      "image/png": "[encoded data removed]",
      "text/plain": [
       "<Figure size 432x288 with 2 Axes>"
      ]
     },
     "metadata": {
      "needs_background": "light"
     },
     "output_type": "display_data"
    }
   ],
   "source": [
    "pre_chm = lidar_das['pre_DSM'] - lidar_das['pre_DTM']\n",
    "pre_chm.plot()"
   ]
  },
  {
   "cell_type": "code",
   "execution_count": null,
   "id": "99cb31b4",
   "metadata": {},
   "outputs": [],
   "source": []
  }
 ],
 "metadata": {
  "kernelspec": {
   "display_name": "Python 3 (ipykernel)",
   "language": "python",
   "name": "python3"
  },
  "language_info": {
   "codemirror_mode": {
    "name": "ipython",
    "version": 3
   },
   "file_extension": ".py",
   "mimetype": "text/x-python",
   "name": "python",
   "nbconvert_exporter": "python",
   "pygments_lexer": "ipython3",
   "version": "3.8.12"
  },
  "varInspector": {
   "cols": {
    "lenName": 16,
    "lenType": 16,
    "lenVar": 40
   },
   "kernels_config": {
    "python": {
     "delete_cmd_postfix": "",
     "delete_cmd_prefix": "del ",
     "library": "var_list.py",
     "varRefreshCmd": "print(var_dic_list())"
    },
    "r": {
     "delete_cmd_postfix": ") ",
     "delete_cmd_prefix": "rm(",
     "library": "var_list.r",
     "varRefreshCmd": "cat(var_dic_list()) "
    }
   },
   "types_to_exclude": [
    "module",
    "function",
    "builtin_function_or_method",
    "instance",
    "_Feature"
   ],
   "window_display": false
  }
 },
 "nbformat": 4,
 "nbformat_minor": 5
}
